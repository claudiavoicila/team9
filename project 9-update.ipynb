{
 "cells": [
  {
   "cell_type": "code",
   "execution_count": 6,
   "metadata": {},
   "outputs": [
    {
     "name": "stdout",
     "output_type": "stream",
     "text": [
      "0        to prove myself dedicated, worthy and energeti...\n",
      "1        working as software developer at ingroinfo sof...\n",
      "2        looking for a challenging career which demands...\n",
      "6        to secure a challenging position where i can e...\n",
      "8        • obtain a challenging position where my resou...\n",
      "                               ...                        \n",
      "14798    to seek a challenging career in an organizatio...\n",
      "14799    management professional seeking a full-time po...\n",
      "14801    to be potential resource to the organization w...\n",
      "14802    a finance professional with close to 6 years o...\n",
      "14803    age: 32 years \\ngender: male \\nfunctional area...\n",
      "Name: Description, Length: 10367, dtype: object\n"
     ]
    },
    {
     "data": {
      "text/plain": [
       "pandas.core.series.Series"
      ]
     },
     "execution_count": 6,
     "metadata": {},
     "output_type": "execute_result"
    }
   ],
   "source": [
    "import pandas as pd\n",
    "col_1 = [\"Description\"]\n",
    "resume = pd.read_csv(\"resume_data.csv\", usecols=col_1)\n",
    "resume=resume.mask(resume.eq('NONE')).dropna()\n",
    "resume=resume[\"Description\"].str.lower()\n",
    "col_2 = [\"Skills\"]\n",
    "skills = pd.read_csv(\"resume_data.csv\", usecols=col_2)\n",
    "skills=skills.mask(skills.eq('NONE')).dropna()\n",
    "skills=skills[\"Skills\"].str.lower()\n",
    "print(resume)\n",
    "type(resume)"
   ]
  },
  {
   "cell_type": "code",
   "execution_count": 7,
   "metadata": {},
   "outputs": [],
   "source": [
    "import nltk\n",
    "from nltk.tokenize import casual_tokenize"
   ]
  },
  {
   "cell_type": "code",
   "execution_count": null,
   "metadata": {},
   "outputs": [],
   "source": [
    "tokenize1=[]\n",
    "for words in resume:\n",
    "    words_clean=words.replace('\\n',' ')    \n",
    "    words_clean=words_clean.replace('\\r',' ').strip()\n",
    "    tokenize1.extend(casual_tokenize(words_clean))\n",
    "print(set(tokenize1))\n",
    "type(tokenize1)"
   ]
  },
  {
   "cell_type": "code",
   "execution_count": null,
   "metadata": {},
   "outputs": [],
   "source": [
    "tokenize2=[]\n",
    "for words in skills:\n",
    "    words_clean=words.replace('\\n',' ')    \n",
    "    words_clean=words_clean.replace('\\r',' ').strip()\n",
    "    tokenize2.extend(casual_tokenize(words_clean))\n",
    "print(set(tokenize2))\n",
    "type(tokenize2)"
   ]
  },
  {
   "cell_type": "code",
   "execution_count": null,
   "metadata": {},
   "outputs": [],
   "source": [
    "token1=set(tokenize1)\n",
    "token2=set(tokenize2)"
   ]
  },
  {
   "cell_type": "code",
   "execution_count": null,
   "metadata": {},
   "outputs": [],
   "source": [
    "import json \n",
    "json.dump(list(token1),open('resume.json','w',encoding='utf8'))"
   ]
  },
  {
   "cell_type": "code",
   "execution_count": null,
   "metadata": {},
   "outputs": [],
   "source": [
    "json.dump(list(token2),open('skills.json','w',encoding='utf8'))"
   ]
  }
 ],
 "metadata": {
  "kernelspec": {
   "display_name": "Python 3",
   "language": "python",
   "name": "python3"
  },
  "language_info": {
   "codemirror_mode": {
    "name": "ipython",
    "version": 3
   },
   "file_extension": ".py",
   "mimetype": "text/x-python",
   "name": "python",
   "nbconvert_exporter": "python",
   "pygments_lexer": "ipython3",
   "version": "3.7.7"
  }
 },
 "nbformat": 4,
 "nbformat_minor": 4
}
